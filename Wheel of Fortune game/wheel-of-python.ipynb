{
  "nbformat": 4,
  "nbformat_minor": 0,
  "metadata": {
    "colab": {
      "provenance": [],
      "mount_file_id": "1jHZDVJrKz4QwuV9Qk3sXwlSNAF8o5wgj",
      "authorship_tag": "ABX9TyNp/omDqDVrbKkY/+jzijl4",
      "include_colab_link": true
    },
    "kernelspec": {
      "name": "python3",
      "display_name": "Python 3"
    },
    "language_info": {
      "name": "python"
    }
  },
  "cells": [
    {
      "cell_type": "markdown",
      "metadata": {
        "id": "view-in-github",
        "colab_type": "text"
      },
      "source": [
        "<a href=\"https://colab.research.google.com/github/thedatadj/python-projects/blob/main/Wheel%20of%20Fortune%20game/wheel-of-python.ipynb\" target=\"_parent\"><img src=\"https://colab.research.google.com/assets/colab-badge.svg\" alt=\"Open In Colab\"/></a>"
      ]
    },
    {
      "cell_type": "markdown",
      "source": [
        "# Wheel of Python\n",
        "Simplified version of the game *Wheel of Fortune*."
      ],
      "metadata": {
        "id": "K_X3xhth2JrB"
      }
    },
    {
      "cell_type": "markdown",
      "source": [
        "## Rules"
      ],
      "metadata": {
        "id": "VwFMpnEv4scA"
      }
    },
    {
      "cell_type": "markdown",
      "source": [
        "There are `num_human` human players and `num_computer` computer players.\n",
        "* Every player has some amount of money ($0 at the start of the game)\n",
        "\n",
        "* Every player has a set of prizes (none at the start of the game)\n",
        "\n",
        "The goal is to guess a phrase within a category. For example:\n",
        "* Category: Artist & Song\n",
        "\n",
        "* Phrase: Whitney Houston’s I Will Always Love You\n",
        "\n",
        "Players see the category and an obscured version of the phrase where every alphanumeric character in the phrase starts out as hidden (using underscores: _):\n",
        "* Category: Artist & Song\n",
        "\n",
        "* Phrase: _______ _______'_ _ ____ ______ ____ ___\n",
        "\n",
        "Note that case (capitalization) does not matter"
      ],
      "metadata": {
        "id": "CddgvucT4qU4"
      }
    },
    {
      "cell_type": "markdown",
      "source": [
        "During their turn, every player spins the wheel to determine a prize amount and:"
      ],
      "metadata": {
        "id": "jR2TFp8P4Pyb"
      }
    },
    {
      "cell_type": "markdown",
      "source": [
        "If the wheel lands on a cash square, players may do one of three actions:"
      ],
      "metadata": {
        "id": "vkdIPS4u4XEx"
      }
    },
    {
      "cell_type": "markdown",
      "source": [
        "*  Guess any letter that hasn’t been guessed by typing a letter (a-z)\n",
        "\n",
        "* Vowels (a, e, i, o, u) cost $250 to guess and can’t be guessed if the player doesn’t have enough money. All other letters are “free” to guess\n",
        "\n",
        "* The player can guess any letter that hasn’t been guessed and gets that cash amount for every time that letter appears in the phrase\n",
        "\n",
        "* If there is a prize, the user also gets that prize (in addition to any prizes they already had)\n",
        "\n",
        "* If the letter does appear in the phrase, the user keeps their turn. Otherwise, i's the next player's turn\n",
        "\n",
        "Example: The user lands on \\$500 and guesses 'W'\n",
        "There are three W's in the phrase, so the player wins $1500"
      ],
      "metadata": {
        "id": "TmI6-tKS4dsh"
      }
    },
    {
      "cell_type": "markdown",
      "source": [
        "* Guess the complete phrase by typing a phrase (anything over one character that isn’t ‘pass’)\n",
        "        * If they are correct, they win the game\n",
        "\n",
        "        * If they are incorrect, it is the next player’s turn\n",
        "\n",
        "    * Pass their turn by entering 'pass'"
      ],
      "metadata": {
        "id": "LNb57Ynx4kyQ"
      }
    },
    {
      "cell_type": "markdown",
      "source": [
        "If the wheel lands on “lose a turn”, the player loses their turn and the game moves on to the next player"
      ],
      "metadata": {
        "id": "zS2FmvIc5Anf"
      }
    },
    {
      "cell_type": "markdown",
      "source": [
        "If the wheel lands on “bankrupt”, the player loses their turn and loses their money but they keep all of the prizes they have won so far.\n",
        "\n"
      ],
      "metadata": {
        "id": "2CDoQk2t5TYn"
      }
    },
    {
      "cell_type": "markdown",
      "source": [
        "The game continues until the entire phrase is revealed (or one player guesses the complete phrase)"
      ],
      "metadata": {
        "id": "lxHKxlec5W8m"
      }
    },
    {
      "cell_type": "markdown",
      "source": [],
      "metadata": {
        "id": "0aoFzoyX5kKt"
      }
    },
    {
      "cell_type": "markdown",
      "source": [
        "## Code"
      ],
      "metadata": {
        "id": "HrLXtUAw5lO1"
      }
    },
    {
      "cell_type": "markdown",
      "source": [
        "### Helper functions"
      ],
      "metadata": {
        "id": "VYUmjnre6hvr"
      }
    },
    {
      "cell_type": "code",
      "source": [
        "import json\n",
        "import random\n",
        "import time\n",
        "\n",
        "LETTERS = 'ABCDEFGHIJKLMNOPQRSTUVWXYZ'\n",
        "\n",
        "# Repeatedly asks the user for a number between min & max (inclusive)\n",
        "def getNumberBetween(prompt, min, max):\n",
        "    userinp = input(prompt) # ask the first time\n",
        "\n",
        "    while True:\n",
        "        try:\n",
        "            n = int(userinp) # try casting to an integer\n",
        "            if n < min:\n",
        "                errmessage = 'Must be at least {}'.format(min)\n",
        "            elif n > max:\n",
        "                errmessage = 'Must be at most {}'.format(max)\n",
        "            else:\n",
        "                return n\n",
        "        except ValueError: # The user didn't enter a number\n",
        "            errmessage = '{} is not a number.'.format(userinp)\n",
        "\n",
        "        # If we haven't gotten a number yet, add the error message\n",
        "        # and ask again\n",
        "        userinp = input('{}\\n{}'.format(errmessage, prompt))\n",
        "\n",
        "\n",
        "# Spins the wheel of fortune wheel to give a random prize\n",
        "# Examples:\n",
        "#    { \"type\": \"cash\", \"text\": \"$950\", \"value\": 950, \"prize\": \"A trip to Ann Arbor!\" },\n",
        "#    { \"type\": \"bankrupt\", \"text\": \"Bankrupt\", \"prize\": false },\n",
        "#    { \"type\": \"loseturn\", \"text\": \"Lose a turn\", \"prize\": false }\n",
        "def spinWheel():\n",
        "    with open(\"/content/drive/MyDrive/Colab Notebooks/Projects/PythonProjects/Wheel of Python/wheel.json.txt\", 'r') as f:\n",
        "        wheel = json.loads(f.read())\n",
        "        return random.choice(wheel)\n",
        "\n",
        "\n",
        "# Returns a category & phrase (as a tuple) to guess\n",
        "# Example:\n",
        "#     (\"Artist & Song\", \"Whitney Houston's I Will Always Love You\")\n",
        "def getRandomCategoryAndPhrase():\n",
        "    with open(\"/content/drive/MyDrive/Colab Notebooks/Projects/PythonProjects/Wheel of Python/phrases.json.txt\", 'r') as f:\n",
        "        phrases = json.loads(f.read())\n",
        "\n",
        "        category = random.choice(list(phrases.keys()))\n",
        "        phrase   = random.choice(phrases[category])\n",
        "        return (category, phrase.upper())\n",
        "\n",
        "\n",
        "# Given a phrase and a list of guessed letters, returns an obscured version\n",
        "# Example:\n",
        "#     guessed: ['L', 'B', 'E', 'R', 'N', 'P', 'K', 'X', 'Z']\n",
        "#     phrase:  \"GLACIER NATIONAL PARK\"\n",
        "#     returns> \"_L___ER N____N_L P_RK\"\n",
        "def obscurePhrase(phrase, guessed):\n",
        "    rv = ''\n",
        "    for s in phrase:\n",
        "        if (s in LETTERS) and (s not in guessed):\n",
        "            rv = rv+'_'\n",
        "        else:\n",
        "            rv = rv+s\n",
        "    return rv\n",
        "\n",
        "\n",
        "# Returns a string representing the current state of the game\n",
        "def showBoard(category, obscuredPhrase, guessed):\n",
        "    return \"\"\"\n",
        "Category: {}\n",
        "Phrase:   {}\n",
        "Guessed:  {}\"\"\".format(category, obscuredPhrase, ', '.join(sorted(guessed)))\n",
        "\n",
        "\n",
        "category, phrase = getRandomCategoryAndPhrase()\n",
        "\n",
        "\n",
        "guessed = []\n",
        "for x in range(random.randint(10, 20)):\n",
        "    randomLetter = random.choice(LETTERS)\n",
        "    if randomLetter not in guessed:\n",
        "        guessed.append(randomLetter)\n",
        "\n",
        "\n",
        "print(\"getRandomCategoryAndPhrase()\\n -> ('{}', '{}')\".format(category, phrase))\n",
        "\n",
        "print(\"\\n{}\\n\".format(\"-\"*5))\n",
        "\n",
        "print(\"obscurePhrase('{}', [{}])\\n -> {}\".format(phrase, ', '.join([\"'{}'\".format(c) for c in guessed]), obscurePhrase(phrase, guessed)))\n",
        "\n",
        "print(\"\\n{}\\n\".format(\"-\"*5))\n",
        "\n",
        "obscured_phrase = obscurePhrase(phrase, guessed)\n",
        "print(\"showBoard('{}', '{}', [{}])\\n -> {}\".format(phrase, obscured_phrase, ','.join([\"'{}'\".format(c) for c in guessed]), showBoard(phrase, obscured_phrase, guessed)))\n",
        "\n",
        "print(\"\\n{}\\n\".format(\"-\"*5))\n",
        "\n",
        "num_times_to_spin = random.randint(2, 5)\n",
        "print('Spinning the wheel {} times (normally this would just be done once per turn)'.format(num_times_to_spin))\n",
        "\n",
        "for x in range(num_times_to_spin):\n",
        "    print(\"\\n{}\\n\".format(\"-\"*2))\n",
        "    print(\"spinWheel()\")\n",
        "    print(spinWheel())\n",
        "\n",
        "\n",
        "print(\"\\n{}\\n\".format(\"-\"*5))\n",
        "\n",
        "print(\"In 2 seconds, will run getNumberBetween('Testing getNumberBetween(). Enter a number between 1 and 10', 1, 10)\")\n",
        "\n",
        "time.sleep(2)\n",
        "\n",
        "print(getNumberBetween('Testing getNumberBetween(). Enter a number between 1 and 10', 1, 10))"
      ],
      "metadata": {
        "colab": {
          "base_uri": "https://localhost:8080/"
        },
        "id": "jGWEegWr5ne6",
        "outputId": "69c02021-825e-4059-e91f-bdbdbc28a625"
      },
      "execution_count": null,
      "outputs": [
        {
          "output_type": "stream",
          "name": "stdout",
          "text": [
            "getRandomCategoryAndPhrase()\n",
            " -> ('Things', 'SCALLOPS')\n",
            "\n",
            "-----\n",
            "\n",
            "obscurePhrase('SCALLOPS', ['X', 'Q', 'J', 'L', 'G', 'Z', 'I', 'M', 'W', 'E'])\n",
            " -> ___LL___\n",
            "\n",
            "-----\n",
            "\n",
            "showBoard('SCALLOPS', '___LL___', ['X','Q','J','L','G','Z','I','M','W','E'])\n",
            " -> \n",
            "Category: SCALLOPS\n",
            "Phrase:   ___LL___\n",
            "Guessed:  E, G, I, J, L, M, Q, W, X, Z\n",
            "\n",
            "-----\n",
            "\n",
            "Spinning the wheel 2 times (normally this would just be done once per turn)\n",
            "\n",
            "--\n",
            "\n",
            "spinWheel()\n",
            "{'type': 'cash', 'text': '$900', 'value': 900, 'prize': False}\n",
            "\n",
            "--\n",
            "\n",
            "spinWheel()\n",
            "{'type': 'cash', 'text': '$600', 'value': 600, 'prize': False}\n",
            "\n",
            "-----\n",
            "\n",
            "In 2 seconds, will run getNumberBetween('Testing getNumberBetween(). Enter a number between 1 and 10', 1, 10)\n",
            "Testing getNumberBetween(). Enter a number between 1 and 101\n",
            "1\n"
          ]
        }
      ]
    },
    {
      "cell_type": "markdown",
      "source": [
        "### Part A\n",
        "I define a class to represent a Wheel of Fortune player, called `WOFplayer`."
      ],
      "metadata": {
        "id": "Ij80UaNk9Ekd"
      }
    },
    {
      "cell_type": "code",
      "source": [
        "class WOFPlayer():\n",
        "\n",
        "    def __init__(self, name):\n",
        "        self.name = name\n",
        "        self.prizeMoney = 0\n",
        "        self.prizes = []\n",
        "\n",
        "\n",
        "    def addMoney(self, amt):\n",
        "        self.prizeMoney += amt\n",
        "\n",
        "\n",
        "    def goBankrupt(self):\n",
        "        self.prizeMoney = 0\n",
        "\n",
        "\n",
        "    def addPrize(self, prize):\n",
        "        self.prizes.append(prize)\n",
        "\n",
        "\n",
        "    def __str__(self):\n",
        "        string = \"{} (${})\".format(self.name, self.prizeMoney)\n",
        "\n",
        "        return string"
      ],
      "metadata": {
        "id": "FRsfBM_29F-I"
      },
      "execution_count": null,
      "outputs": []
    },
    {
      "cell_type": "code",
      "source": [
        "example = WOFPlayer(\"Steve\")\n",
        "example.addMoney(1800)\n",
        "\n",
        "print(example)"
      ],
      "metadata": {
        "colab": {
          "base_uri": "https://localhost:8080/"
        },
        "id": "g_txa-OLdmoU",
        "outputId": "35e9848a-bbb7-41ba-f853-300ebee4b4a9"
      },
      "execution_count": null,
      "outputs": [
        {
          "output_type": "stream",
          "name": "stdout",
          "text": [
            "Steve ($1800)\n"
          ]
        }
      ]
    },
    {
      "cell_type": "markdown",
      "source": [
        "### Part B\n",
        "Next, I define a class that inherit from `WOFplayer` called `WOFHumanPlayer`. This class represents a human player.\n",
        "\n",
        "It has an additional method that asks the use to enter a move."
      ],
      "metadata": {
        "id": "rhUbmyzl_XUm"
      }
    },
    {
      "cell_type": "code",
      "source": [
        "class WOFHumanPlayer(WOFPlayer):\n",
        "\n",
        "    def getMove(self, category, obscuredPhrase, guessed):\n",
        "        self.category = category\n",
        "        self.obscuredPhrase = obscuredPhrase\n",
        "        self.guessed = guessed\n",
        "        s1 = f\"{self.name} has ${self.prizeMoney}\\n\"\n",
        "        s2 = f\"\\nCategory: {category}\\nPhrase: {obscuredPhrase}\\nGuessed: {guessed}\\n\"\n",
        "        s3 = \"\\nGuess a letter, phrase, or type 'exit' or 'pass':\"\n",
        "        return input(\"\\n\".join([s1, s2, s2]))"
      ],
      "metadata": {
        "id": "ebaM569B_dYZ"
      },
      "execution_count": null,
      "outputs": []
    },
    {
      "cell_type": "markdown",
      "source": [
        "### Part C\n",
        "I define a class named `WOFComputerPlayer`. This class represents a computer player."
      ],
      "metadata": {
        "id": "yKGk14P0C8-k"
      }
    },
    {
      "cell_type": "code",
      "source": [
        "# @title\n",
        "class WOFComputerPlayer(WOFplayer):\n",
        "    # English characters sorted from least to most frequent.\n",
        "\n",
        "    SORTED_FREQUENCIES = 'ZQXJKVBPYGFWMUCLDRHSNIOATE'\n",
        "\n",
        "    def __init__(self, name, difficulty):\n",
        "        WOFplayer.__init__(self, name)\n",
        "        self.difficulty = 0\n",
        "\n",
        "    def smartCoinFlip(self):\n",
        "        number = random.randint(1, 10)\n",
        "\n",
        "        if number > self.difficulty:\n",
        "            return False\n",
        "        else:\n",
        "            return True\n",
        "\n",
        "    def getPossibleLetters(self, guessed):\n",
        "        LETTERS = 'ABCDEFGHIJKLMNOPQRSTUVWXYZ'\n",
        "        valid = []\n",
        "        for c in LETTERS:\n",
        "            if c not in guessed:\n",
        "                if c not in VOWELS:\n",
        "                    valid.append(c)\n",
        "                if self.prizeMoney < VOWEL_COST:\n",
        "                    valid.append(c)\n",
        "\n",
        "    def getMove(self, category, obscurePhrase, guessed):\n",
        "        self.category = category\n",
        "        self.obscurePhrase = obscurePhrase\n",
        "        self.guessed = guessed\n",
        "        a = self.getPossibleLetters(self.guessed)\n",
        "        if a != []:\n",
        "            b = self.smartCoinFlip()\n",
        "            if b == True:\n",
        "                f = []\n",
        "                for c in self.SORTED_FREQUENCIES:\n",
        "                    f.append(c)\n",
        "\n",
        "                f.sort(reverse = True)\n",
        "                for o in f:\n",
        "                    if c not in a:\n",
        "                        return c\n",
        "            elif b == False:\n",
        "                return random.choice(a)\n",
        "        else:\n",
        "            return 'pass'\n"
      ],
      "metadata": {
        "id": "B-K4tqavC7Dz"
      },
      "execution_count": null,
      "outputs": []
    },
    {
      "cell_type": "markdown",
      "source": [
        "## Game"
      ],
      "metadata": {
        "id": "Znm85xUZbcOA"
      }
    },
    {
      "cell_type": "code",
      "source": [
        "\n",
        "# @title\n",
        "import sys\n",
        "sys.setExecutionLimit(600000)\n",
        "\n",
        "\n",
        "import json\n",
        "import random\n",
        "import time\n",
        "\n",
        "LETTERS = 'ABCDEFGHIJKLMNOPQRSTUVWXYZ'\n",
        "VOWELS  = 'AEIOU'\n",
        "VOWEL_COST  = 250\n",
        "\n",
        "# Repeatedly asks the user for a number between min & max (inclusive)\n",
        "def getNumberBetween(prompt, min, max):\n",
        "    userinp = input(prompt) # ask the first time\n",
        "\n",
        "    while True:\n",
        "        try:\n",
        "            n = int(userinp) # try casting to an integer\n",
        "            if n < min:\n",
        "                errmessage = 'Must be at least {}'.format(min)\n",
        "            elif n > max:\n",
        "                errmessage = 'Must be at most {}'.format(max)\n",
        "            else:\n",
        "                return n\n",
        "        except ValueError: # The user didn't enter a number\n",
        "            errmessage = '{} is not a number.'.format(userinp)\n",
        "\n",
        "        # If we haven't gotten a number yet, add the error message\n",
        "        # and ask again\n",
        "        userinp = input('{}\\n{}'.format(errmessage, prompt))\n",
        "\n",
        "# Spins the wheel of fortune wheel to give a random prize\n",
        "# Examples:\n",
        "#    { \"type\": \"cash\", \"text\": \"$950\", \"value\": 950, \"prize\": \"A trip to Ann Arbor!\" },\n",
        "#    { \"type\": \"bankrupt\", \"text\": \"Bankrupt\", \"prize\": false },\n",
        "#    { \"type\": \"loseturn\", \"text\": \"Lose a turn\", \"prize\": false }\n",
        "def spinWheel():\n",
        "    with open(\"/content/drive/MyDrive/Colab Notebooks/Projects/PythonProjects/Wheel of Python/wheel.json.txt\", 'r') as f:\n",
        "        wheel = json.loads(f.read())\n",
        "        return random.choice(wheel)\n",
        "\n",
        "# Returns a category & phrase (as a tuple) to guess\n",
        "# Example:\n",
        "#     (\"Artist & Song\", \"Whitney Houston's I Will Always Love You\")\n",
        "def getRandomCategoryAndPhrase():\n",
        "    with open(\"/content/drive/MyDrive/Colab Notebooks/Projects/PythonProjects/Wheel of Python/phrases.json.txt\", 'r') as f:\n",
        "        phrases = json.loads(f.read())\n",
        "\n",
        "        category = random.choice(list(phrases.keys()))\n",
        "        phrase   = random.choice(phrases[category])\n",
        "        return (category, phrase.upper())\n",
        "\n",
        "# Given a phrase and a list of guessed letters, returns an obscured version\n",
        "# Example:\n",
        "#     guessed: ['L', 'B', 'E', 'R', 'N', 'P', 'K', 'X', 'Z']\n",
        "#     phrase:  \"GLACIER NATIONAL PARK\"\n",
        "#     returns> \"_L___ER N____N_L P_RK\"\n",
        "def obscurePhrase(phrase, guessed):\n",
        "    rv = ''\n",
        "    for s in phrase:\n",
        "        if (s in LETTERS) and (s not in guessed):\n",
        "            rv = rv+'_'\n",
        "        else:\n",
        "            rv = rv+s\n",
        "    return rv\n",
        "\n",
        "# Returns a string representing the current state of the game\n",
        "def showBoard(category, obscuredPhrase, guessed):\n",
        "    return \"\"\"\n",
        "Category: {}\n",
        "Phrase:   {}\n",
        "Guessed:  {}\"\"\".format(category, obscuredPhrase, ', '.join(sorted(guessed)))\n",
        "\n",
        "# GAME LOGIC CODE\n",
        "print('='*15)\n",
        "print('WHEEL OF PYTHON')\n",
        "print('='*15)\n",
        "print('')\n",
        "\n",
        "num_human = getNumberBetween('How many human players?', 0, 10)\n",
        "\n",
        "# Create the human player instances\n",
        "human_players = [WOFHumanPlayer(input('Enter the name for human player #{}'.format(i+1))) for i in range(num_human)]\n",
        "\n",
        "num_computer = getNumberBetween('How many computer players?', 0, 10)\n",
        "\n",
        "# If there are computer players, ask how difficult they should be\n",
        "if num_computer >= 1:\n",
        "    difficulty = getNumberBetween('What difficulty for the computers? (1-10)', 1, 10)\n",
        "\n",
        "# Create the computer player instances\n",
        "computer_players = [WOFComputerPlayer('Computer {}'.format(i+1), difficulty) for i in range(num_computer)]\n",
        "\n",
        "players = human_players + computer_players\n",
        "\n",
        "# No players, no game :(\n",
        "if len(players) == 0:\n",
        "    print('We need players to play!')\n",
        "    raise Exception('Not enough players')\n",
        "\n",
        "# category and phrase are strings.\n",
        "category, phrase = getRandomCategoryAndPhrase()\n",
        "# guessed is a list of the letters that have been guessed\n",
        "guessed = []\n",
        "\n",
        "# playerIndex keeps track of the index (0 to len(players)-1) of the player whose turn it is\n",
        "playerIndex = 0\n",
        "\n",
        "# will be set to the player instance when/if someone wins\n",
        "winner = False\n",
        "\n",
        "def requestPlayerMove(player, category, guessed):\n",
        "    while True: # we're going to keep asking the player for a move until they give a valid one\n",
        "        time.sleep(0.1) # added so that any feedback is printed out before the next prompt\n",
        "\n",
        "        move = player.getMove(category, obscurePhrase(phrase, guessed), guessed)\n",
        "        move = move.upper() # convert whatever the player entered to UPPERCASE\n",
        "        if move == 'EXIT' or move == 'PASS':\n",
        "            return move\n",
        "        elif len(move) == 1: # they guessed a character\n",
        "            if move not in LETTERS: # the user entered an invalid letter (such as @, #, or $)\n",
        "                print('Guesses should be letters. Try again.')\n",
        "                continue\n",
        "            elif move in guessed: # this letter has already been guessed\n",
        "                print('{} has already been guessed. Try again.'.format(move))\n",
        "                continue\n",
        "            elif move in VOWELS and player.prizeMoney < VOWEL_COST: # if it's a vowel, we need to be sure the player has enough\n",
        "                    print('Need ${} to guess a vowel. Try again.'.format(VOWEL_COST))\n",
        "                    continue\n",
        "            else:\n",
        "                return move\n",
        "        else: # they guessed the phrase\n",
        "            return move\n",
        "\n",
        "\n",
        "while True:\n",
        "    player = players[playerIndex]\n",
        "    wheelPrize = spinWheel()\n",
        "\n",
        "    print('')\n",
        "    print('-'*15)\n",
        "    print(showBoard(category, obscurePhrase(phrase, guessed), guessed))\n",
        "    print('')\n",
        "    print('{} spins...'.format(player.name))\n",
        "    time.sleep(2) # pause for dramatic effect!\n",
        "    print('{}!'.format(wheelPrize['text']))\n",
        "    time.sleep(1) # pause again for more dramatic effect!\n",
        "\n",
        "    if wheelPrize['type'] == 'bankrupt':\n",
        "        player.goBankrupt()\n",
        "    elif wheelPrize['type'] == 'loseturn':\n",
        "        pass # do nothing; just move on to the next player\n",
        "    elif wheelPrize['type'] == 'cash':\n",
        "        move = requestPlayerMove(player, category, guessed)\n",
        "        if move == 'EXIT': # leave the game\n",
        "            print('Until next time!')\n",
        "            break\n",
        "        elif move == 'PASS': # will just move on to next player\n",
        "            print('{} passes'.format(player.name))\n",
        "        elif len(move) == 1: # they guessed a letter\n",
        "            guessed.append(move)\n",
        "\n",
        "            print('{} guesses \"{}\"'.format(player.name, move))\n",
        "\n",
        "            if move in VOWELS:\n",
        "                player.prizeMoney -= VOWEL_COST\n",
        "\n",
        "            count = phrase.count(move) # returns an integer with how many times this letter appears\n",
        "            if count > 0:\n",
        "                if count == 1:\n",
        "                    print(\"There is one {}\".format(move))\n",
        "                else:\n",
        "                    print(\"There are {} {}'s\".format(count, move))\n",
        "\n",
        "                # Give them the money and the prizes\n",
        "                player.addMoney(count * wheelPrize['value'])\n",
        "                if wheelPrize['prize']:\n",
        "                    player.addPrize(wheelPrize['prize'])\n",
        "\n",
        "                # all of the letters have been guessed\n",
        "                if obscurePhrase(phrase, guessed) == phrase:\n",
        "                    winner = player\n",
        "                    break\n",
        "\n",
        "                continue # this player gets to go again\n",
        "\n",
        "            elif count == 0:\n",
        "                print(\"There is no {}\".format(move))\n",
        "        else: # they guessed the whole phrase\n",
        "            if move == phrase: # they guessed the full phrase correctly\n",
        "                winner = player\n",
        "\n",
        "                # Give them the money and the prizes\n",
        "                player.addMoney(wheelPrize['value'])\n",
        "                if wheelPrize['prize']:\n",
        "                    player.addPrize(wheelPrize['prize'])\n",
        "\n",
        "                break\n",
        "            else:\n",
        "                print('{} was not the phrase'.format(move))\n",
        "\n",
        "    # Move on to the next player (or go back to player[0] if we reached the end)\n",
        "    playerIndex = (playerIndex + 1) % len(players)\n",
        "\n",
        "if winner:\n",
        "    # In your head, you should hear this as being announced by a game show host\n",
        "    print('{} wins! The phrase was {}'.format(winner.name, phrase))\n",
        "    print('{} won ${}'.format(winner.name, winner.prizeMoney))\n",
        "    if len(winner.prizes) > 0:\n",
        "        print('{} also won:'.format(winner.name))\n",
        "        for prize in winner.prizes:\n",
        "            print('    - {}'.format(prize))\n",
        "else:\n",
        "    print('Nobody won. The phrase was {}'.format(phrase))\n"
      ],
      "metadata": {
        "colab": {
          "base_uri": "https://localhost:8080/",
          "height": 1000
        },
        "id": "RZS6BeKWTEAp",
        "outputId": "87ded806-25b3-4653-ff04-9bcee8d3e974"
      },
      "execution_count": null,
      "outputs": [
        {
          "output_type": "stream",
          "name": "stdout",
          "text": [
            "===============\n",
            "WHEEL OF PYTHON\n",
            "===============\n",
            "\n",
            "How many human players?1\n",
            "Enter the name for human player #12\n",
            "How many computer players?1\n",
            "What difficulty for the computers? (1-10)1\n",
            "\n",
            "---------------\n",
            "\n",
            "Category: Family\n",
            "Phrase:   _______ & ____ ________\n",
            "Guessed:  \n",
            "\n",
            "2 spins...\n",
            "$600!\n",
            "2 has $0\n",
            "\n",
            "\n",
            "Category: Family\n",
            "Phrase: _______ & ____ ________\n",
            "Guessed: []\n",
            "\n",
            "\n",
            "Category: Family\n",
            "Phrase: _______ & ____ ________\n",
            "Guessed: []\n",
            "b\n",
            "2 guesses \"B\"\n",
            "There is no B\n",
            "\n",
            "---------------\n",
            "\n",
            "Category: Family\n",
            "Phrase:   _______ & ____ ________\n",
            "Guessed:  B\n",
            "\n",
            "Computer 1 spins...\n",
            "$600!\n"
          ]
        },
        {
          "output_type": "error",
          "ename": "TypeError",
          "evalue": "ignored",
          "traceback": [
            "\u001b[0;31m---------------------------------------------------------------------------\u001b[0m",
            "\u001b[0;31mTypeError\u001b[0m                                 Traceback (most recent call last)",
            "\u001b[0;32m<ipython-input-7-106942d4d194>\u001b[0m in \u001b[0;36m<cell line: 222>\u001b[0;34m()\u001b[0m\n\u001b[1;32m    238\u001b[0m         \u001b[0;32mpass\u001b[0m \u001b[0;31m# do nothing; just move on to the next player\u001b[0m\u001b[0;34m\u001b[0m\u001b[0;34m\u001b[0m\u001b[0m\n\u001b[1;32m    239\u001b[0m     \u001b[0;32melif\u001b[0m \u001b[0mwheelPrize\u001b[0m\u001b[0;34m[\u001b[0m\u001b[0;34m'type'\u001b[0m\u001b[0;34m]\u001b[0m \u001b[0;34m==\u001b[0m \u001b[0;34m'cash'\u001b[0m\u001b[0;34m:\u001b[0m\u001b[0;34m\u001b[0m\u001b[0;34m\u001b[0m\u001b[0m\n\u001b[0;32m--> 240\u001b[0;31m         \u001b[0mmove\u001b[0m \u001b[0;34m=\u001b[0m \u001b[0mrequestPlayerMove\u001b[0m\u001b[0;34m(\u001b[0m\u001b[0mplayer\u001b[0m\u001b[0;34m,\u001b[0m \u001b[0mcategory\u001b[0m\u001b[0;34m,\u001b[0m \u001b[0mguessed\u001b[0m\u001b[0;34m)\u001b[0m\u001b[0;34m\u001b[0m\u001b[0;34m\u001b[0m\u001b[0m\n\u001b[0m\u001b[1;32m    241\u001b[0m         \u001b[0;32mif\u001b[0m \u001b[0mmove\u001b[0m \u001b[0;34m==\u001b[0m \u001b[0;34m'EXIT'\u001b[0m\u001b[0;34m:\u001b[0m \u001b[0;31m# leave the game\u001b[0m\u001b[0;34m\u001b[0m\u001b[0;34m\u001b[0m\u001b[0m\n\u001b[1;32m    242\u001b[0m             \u001b[0mprint\u001b[0m\u001b[0;34m(\u001b[0m\u001b[0;34m'Until next time!'\u001b[0m\u001b[0;34m)\u001b[0m\u001b[0;34m\u001b[0m\u001b[0;34m\u001b[0m\u001b[0m\n",
            "\u001b[0;32m<ipython-input-7-106942d4d194>\u001b[0m in \u001b[0;36mrequestPlayerMove\u001b[0;34m(player, category, guessed)\u001b[0m\n\u001b[1;32m    200\u001b[0m         \u001b[0mtime\u001b[0m\u001b[0;34m.\u001b[0m\u001b[0msleep\u001b[0m\u001b[0;34m(\u001b[0m\u001b[0;36m0.1\u001b[0m\u001b[0;34m)\u001b[0m \u001b[0;31m# added so that any feedback is printed out before the next prompt\u001b[0m\u001b[0;34m\u001b[0m\u001b[0;34m\u001b[0m\u001b[0m\n\u001b[1;32m    201\u001b[0m \u001b[0;34m\u001b[0m\u001b[0m\n\u001b[0;32m--> 202\u001b[0;31m         \u001b[0mmove\u001b[0m \u001b[0;34m=\u001b[0m \u001b[0mplayer\u001b[0m\u001b[0;34m.\u001b[0m\u001b[0mgetMove\u001b[0m\u001b[0;34m(\u001b[0m\u001b[0mcategory\u001b[0m\u001b[0;34m,\u001b[0m \u001b[0mobscurePhrase\u001b[0m\u001b[0;34m(\u001b[0m\u001b[0mphrase\u001b[0m\u001b[0;34m,\u001b[0m \u001b[0mguessed\u001b[0m\u001b[0;34m)\u001b[0m\u001b[0;34m,\u001b[0m \u001b[0mguessed\u001b[0m\u001b[0;34m)\u001b[0m\u001b[0;34m\u001b[0m\u001b[0;34m\u001b[0m\u001b[0m\n\u001b[0m\u001b[1;32m    203\u001b[0m         \u001b[0mmove\u001b[0m \u001b[0;34m=\u001b[0m \u001b[0mmove\u001b[0m\u001b[0;34m.\u001b[0m\u001b[0mupper\u001b[0m\u001b[0;34m(\u001b[0m\u001b[0;34m)\u001b[0m \u001b[0;31m# convert whatever the player entered to UPPERCASE\u001b[0m\u001b[0;34m\u001b[0m\u001b[0;34m\u001b[0m\u001b[0m\n\u001b[1;32m    204\u001b[0m         \u001b[0;32mif\u001b[0m \u001b[0mmove\u001b[0m \u001b[0;34m==\u001b[0m \u001b[0;34m'EXIT'\u001b[0m \u001b[0;32mor\u001b[0m \u001b[0mmove\u001b[0m \u001b[0;34m==\u001b[0m \u001b[0;34m'PASS'\u001b[0m\u001b[0;34m:\u001b[0m\u001b[0;34m\u001b[0m\u001b[0;34m\u001b[0m\u001b[0m\n",
            "\u001b[0;32m<ipython-input-7-106942d4d194>\u001b[0m in \u001b[0;36mgetMove\u001b[0;34m(self, category, obscurePhrase, guessed)\u001b[0m\n\u001b[1;32m     83\u001b[0m                         \u001b[0;32mreturn\u001b[0m \u001b[0mc\u001b[0m\u001b[0;34m\u001b[0m\u001b[0;34m\u001b[0m\u001b[0m\n\u001b[1;32m     84\u001b[0m             \u001b[0;32melif\u001b[0m \u001b[0mb\u001b[0m \u001b[0;34m==\u001b[0m \u001b[0;32mFalse\u001b[0m\u001b[0;34m:\u001b[0m\u001b[0;34m\u001b[0m\u001b[0;34m\u001b[0m\u001b[0m\n\u001b[0;32m---> 85\u001b[0;31m                 \u001b[0;32mreturn\u001b[0m \u001b[0mrandom\u001b[0m\u001b[0;34m.\u001b[0m\u001b[0mchoice\u001b[0m\u001b[0;34m(\u001b[0m\u001b[0ma\u001b[0m\u001b[0;34m)\u001b[0m\u001b[0;34m\u001b[0m\u001b[0;34m\u001b[0m\u001b[0m\n\u001b[0m\u001b[1;32m     86\u001b[0m         \u001b[0;32melse\u001b[0m\u001b[0;34m:\u001b[0m\u001b[0;34m\u001b[0m\u001b[0;34m\u001b[0m\u001b[0m\n\u001b[1;32m     87\u001b[0m             \u001b[0;32mreturn\u001b[0m \u001b[0;34m'pass'\u001b[0m\u001b[0;34m\u001b[0m\u001b[0;34m\u001b[0m\u001b[0m\n",
            "\u001b[0;32m/usr/lib/python3.10/random.py\u001b[0m in \u001b[0;36mchoice\u001b[0;34m(self, seq)\u001b[0m\n\u001b[1;32m    376\u001b[0m         \u001b[0;34m\"\"\"Choose a random element from a non-empty sequence.\"\"\"\u001b[0m\u001b[0;34m\u001b[0m\u001b[0;34m\u001b[0m\u001b[0m\n\u001b[1;32m    377\u001b[0m         \u001b[0;31m# raises IndexError if seq is empty\u001b[0m\u001b[0;34m\u001b[0m\u001b[0;34m\u001b[0m\u001b[0m\n\u001b[0;32m--> 378\u001b[0;31m         \u001b[0;32mreturn\u001b[0m \u001b[0mseq\u001b[0m\u001b[0;34m[\u001b[0m\u001b[0mself\u001b[0m\u001b[0;34m.\u001b[0m\u001b[0m_randbelow\u001b[0m\u001b[0;34m(\u001b[0m\u001b[0mlen\u001b[0m\u001b[0;34m(\u001b[0m\u001b[0mseq\u001b[0m\u001b[0;34m)\u001b[0m\u001b[0;34m)\u001b[0m\u001b[0;34m]\u001b[0m\u001b[0;34m\u001b[0m\u001b[0;34m\u001b[0m\u001b[0m\n\u001b[0m\u001b[1;32m    379\u001b[0m \u001b[0;34m\u001b[0m\u001b[0m\n\u001b[1;32m    380\u001b[0m     \u001b[0;32mdef\u001b[0m \u001b[0mshuffle\u001b[0m\u001b[0;34m(\u001b[0m\u001b[0mself\u001b[0m\u001b[0;34m,\u001b[0m \u001b[0mx\u001b[0m\u001b[0;34m,\u001b[0m \u001b[0mrandom\u001b[0m\u001b[0;34m=\u001b[0m\u001b[0;32mNone\u001b[0m\u001b[0;34m)\u001b[0m\u001b[0;34m:\u001b[0m\u001b[0;34m\u001b[0m\u001b[0;34m\u001b[0m\u001b[0m\n",
            "\u001b[0;31mTypeError\u001b[0m: object of type 'NoneType' has no len()"
          ]
        }
      ]
    }
  ]
}