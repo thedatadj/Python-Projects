{
  "nbformat": 4,
  "nbformat_minor": 0,
  "metadata": {
    "colab": {
      "provenance": [],
      "mount_file_id": "1B4vG3u8Af3U272f_usIJTBpWJLj7I0xS",
      "authorship_tag": "ABX9TyNvXF9nphj3PRdgZKOqcMJ+",
      "include_colab_link": true
    },
    "kernelspec": {
      "name": "python3",
      "display_name": "Python 3"
    },
    "language_info": {
      "name": "python"
    }
  },
  "cells": [
    {
      "cell_type": "markdown",
      "metadata": {
        "id": "view-in-github",
        "colab_type": "text"
      },
      "source": [
        "<a href=\"https://colab.research.google.com/github/thedatadj/Python_Projects/blob/main/Twitter%20Sentiment%20Analyser/Naive_Sentiment_Classifier.ipynb\" target=\"_parent\"><img src=\"https://colab.research.google.com/assets/colab-badge.svg\" alt=\"Open In Colab\"/></a>"
      ]
    },
    {
      "cell_type": "markdown",
      "source": [
        "# Naive Sentiment Classifier\n",
        "\n",
        "In this project, I construct a naive sentiment classifier using some synthetic (fake, semi-randomly generated) twitter data in a csv file named `project_twitter_data.csv` which has the text of a tweet, the number of retweets of that tweet, and the number of replies to that tweet.\n",
        "\n",
        "I have also words that express positive sentiment and negative sentiment, in the files `positive_words.txt` and `negative_words.txt`.\n",
        "\n",
        "### Description\n",
        "\n",
        "My goal is to build a sentiment classifier, which will detect how positive or negative each tweet is. I will create a csv file, which contains columns for the number of retweets, number of replies, positive core (which is how many happy words are in the tweet), Negative Score (which is how many angry words are in the tweet), and the Net Score for each tweet. At the end, I produce a graph of the Net Score vs Number of Retweets.\n",
        "\n",
        "This classifier is considered `naive` because it only looks at the frequency of positive and negative words, it doesn't really understand the meaning of the words."
      ],
      "metadata": {
        "id": "T1-Bp8fNcJpk"
      }
    },
    {
      "cell_type": "code",
      "source": [
        "positive = \"/content/drive/MyDrive/Colab Notebooks/Projects/PythonProjects/Sentiment Analysis/positive_words.txt.txt\"\n",
        "negative = \"/content/drive/MyDrive/Colab Notebooks/Projects/PythonProjects/Sentiment Analysis/negative_words.txt.txt\"\n",
        "twitter_data = \"/content/drive/MyDrive/Colab Notebooks/Projects/PythonProjects/Sentiment Analysis/project_twitter_data.csv.txt\""
      ],
      "metadata": {
        "id": "63-IKGg9QwBK"
      },
      "execution_count": 87,
      "outputs": []
    },
    {
      "cell_type": "code",
      "source": [
        "# Data analysis\n",
        "import pandas as pd\n",
        "\n",
        "# Data representation\n",
        "import seaborn as sns"
      ],
      "metadata": {
        "id": "t-Y96fP6aAIq"
      },
      "execution_count": 88,
      "outputs": []
    },
    {
      "cell_type": "markdown",
      "source": [
        "## Preprocessing\n",
        "I define a function called `strip_punctuation` which takes one parameter, a string which represents a word, and removes characters considered punctuation from everywhere in the word."
      ],
      "metadata": {
        "id": "ILpTgk8fKB6u"
      }
    },
    {
      "cell_type": "code",
      "execution_count": 89,
      "metadata": {
        "id": "Kdf3MFXXbHvy"
      },
      "outputs": [],
      "source": [
        "punctuation_chars = [\"'\", '\"', \",\", \".\", \"!\", \":\", \";\", '#', '@']\n",
        "\n",
        "def strip_punctuation(word):\n",
        "    for ch in word:\n",
        "        if ch in punctuation_chars:\n",
        "            word = word.replace(ch, \"\")\n",
        "    return word"
      ]
    },
    {
      "cell_type": "markdown",
      "source": [
        "## Positive sentiment\n",
        "This function returns an integer of how many occurrences there are of positive words in the text."
      ],
      "metadata": {
        "id": "Oz1NwglYKN4P"
      }
    },
    {
      "cell_type": "code",
      "source": [
        "# list of positive words to use\n",
        "positive_words = []\n",
        "with open(positive) as pos_f:\n",
        "    for lin in pos_f:\n",
        "        if lin[0] != ';' and lin[0] != '\\n':\n",
        "            positive_words.append(lin.strip())\n",
        "\n",
        "def get_pos(sentence):\n",
        "    x = 0\n",
        "    for word in sentence.split():\n",
        "        word = strip_punctuation(word)\n",
        "        word = word.lower()\n",
        "        if word in positive_words:\n",
        "            x += 1\n",
        "    return x"
      ],
      "metadata": {
        "id": "K1arcMOWhH7h"
      },
      "execution_count": 90,
      "outputs": []
    },
    {
      "cell_type": "markdown",
      "source": [
        "## Negative sentiment\n",
        "This function returns an integer which is the frequency of negative words in the text."
      ],
      "metadata": {
        "id": "PyeusHyaK2wD"
      }
    },
    {
      "cell_type": "code",
      "source": [
        "# list of # list of positive words to use words to use\n",
        "negative_words = []\n",
        "with open(negative) as pos_f:\n",
        "    for lin in pos_f:\n",
        "        if lin[0] != ';' and lin[0] != '\\n':\n",
        "            negative_words.append(lin.strip())\n",
        "\n",
        "\n",
        "def get_neg(sentence):\n",
        "    x = 0\n",
        "    for word in sentence.split():\n",
        "        word = strip_punctuation(word)\n",
        "        word = word.lower()\n",
        "        if word in negative_words:\n",
        "            x += 1\n",
        "    return x"
      ],
      "metadata": {
        "id": "1hu7Ma3Gi1Jl"
      },
      "execution_count": 91,
      "outputs": []
    },
    {
      "cell_type": "markdown",
      "source": [
        "## Save the data\n",
        "\n",
        "This code opens and read the file `project_twitter_data.csv`, extracts the tweets and then I apply the functions defined above to extract the positive and negative scores.\n",
        "\n",
        "The I save this information into a csv file called `resulting_data.csv`, which contains the following headers:\n",
        "\n",
        "\n",
        "<table>\n",
        "  <th>Number of Retweets</th><th>Number of Replies</th><th>Positive Score</th><th>Negative Score</th><th>Net Score</th>\n",
        "  <tr>\n",
        "    <td>2</td><td>1</td><td>2</td><td>1</td><td>1</td>\n",
        "  </tr>\n",
        "  <tr>\n",
        "    <td>3</td><td>5</td><td>0</td><td>3</td><td>-3</td>\n",
        "  </tr>\n",
        "  <tr>\n",
        "    <td></td><td></td><td>&#x22EE</td></td><td></td><td>\n",
        "  </tr>\n",
        "</table>\n",
        "\n"
      ],
      "metadata": {
        "id": "g01tMLkdLpPp"
      }
    },
    {
      "cell_type": "code",
      "source": [
        "# Open the file to read the data\n",
        "input = open(twitter_data, \"r\")\n",
        "\n",
        "# Create the file to write the resulting data\n",
        "output = open(\"resulting_data.csv\", \"w\")\n",
        "\n",
        "\n",
        "# Write header on output file\n",
        "header = 'Number of Retweets,Number of Replies,Positive Score,Negative Score,Net Score'\n",
        "output.write(header)\n",
        "\n",
        "# Add like breack\n",
        "output.write('\\n')\n",
        "\n",
        "# Split the file into rows\n",
        "rows = input.readlines()[1:] # Skip the header\n",
        "\n",
        "# Separate the columns from each row\n",
        "rows = [row.split(\",\") for row in rows]\n",
        "\n",
        "\n",
        "for row in rows:\n",
        "    # get the item from each column\n",
        "    tweet = row[0]\n",
        "    retweets = row[1]\n",
        "    replies = row[2][:1]\n",
        "\n",
        "    # get the scores\n",
        "    n = get_neg(tweet)\n",
        "    p = get_pos(tweet)\n",
        "\n",
        "\n",
        "    # Create new row\n",
        "    new_row = list(map(lambda x: str(x), [retweets, replies, p, -1*n, p-n]))\n",
        "    new_row = \",\".join(new_row)\n",
        "\n",
        "    # Save data into file\n",
        "    output.write(new_row)\n",
        "    output.write('\\n')\n",
        "\n",
        "# Close files\n",
        "input.close()\n",
        "output.close()"
      ],
      "metadata": {
        "id": "W2zxDL4Xjaua"
      },
      "execution_count": 92,
      "outputs": []
    },
    {
      "cell_type": "code",
      "source": [
        "twitter_data = pd.read_csv(\"/content/resulting_data.csv\")"
      ],
      "metadata": {
        "id": "vtcFjH6NYI3X"
      },
      "execution_count": 93,
      "outputs": []
    },
    {
      "cell_type": "code",
      "source": [
        "twitter_data.head()"
      ],
      "metadata": {
        "colab": {
          "base_uri": "https://localhost:8080/",
          "height": 206
        },
        "id": "jm5mhybOYbgn",
        "outputId": "8c3a5e48-e55e-43e5-a838-42c298c88d2e"
      },
      "execution_count": 94,
      "outputs": [
        {
          "output_type": "execute_result",
          "data": {
            "text/plain": [
              "   Number of Retweets  Number of Replies  Positive Score  Negative Score  \\\n",
              "0                   3                  0               0               0   \n",
              "1                   1                  0               2              -2   \n",
              "2                   1                  2               1               0   \n",
              "3                   3                  1               1               0   \n",
              "4                   6                  0               2               0   \n",
              "\n",
              "   Net Score  \n",
              "0          0  \n",
              "1          0  \n",
              "2          1  \n",
              "3          1  \n",
              "4          2  "
            ],
            "text/html": [
              "\n",
              "  <div id=\"df-9fc08bfa-bc19-4626-a715-4bb886b4d756\" class=\"colab-df-container\">\n",
              "    <div>\n",
              "<style scoped>\n",
              "    .dataframe tbody tr th:only-of-type {\n",
              "        vertical-align: middle;\n",
              "    }\n",
              "\n",
              "    .dataframe tbody tr th {\n",
              "        vertical-align: top;\n",
              "    }\n",
              "\n",
              "    .dataframe thead th {\n",
              "        text-align: right;\n",
              "    }\n",
              "</style>\n",
              "<table border=\"1\" class=\"dataframe\">\n",
              "  <thead>\n",
              "    <tr style=\"text-align: right;\">\n",
              "      <th></th>\n",
              "      <th>Number of Retweets</th>\n",
              "      <th>Number of Replies</th>\n",
              "      <th>Positive Score</th>\n",
              "      <th>Negative Score</th>\n",
              "      <th>Net Score</th>\n",
              "    </tr>\n",
              "  </thead>\n",
              "  <tbody>\n",
              "    <tr>\n",
              "      <th>0</th>\n",
              "      <td>3</td>\n",
              "      <td>0</td>\n",
              "      <td>0</td>\n",
              "      <td>0</td>\n",
              "      <td>0</td>\n",
              "    </tr>\n",
              "    <tr>\n",
              "      <th>1</th>\n",
              "      <td>1</td>\n",
              "      <td>0</td>\n",
              "      <td>2</td>\n",
              "      <td>-2</td>\n",
              "      <td>0</td>\n",
              "    </tr>\n",
              "    <tr>\n",
              "      <th>2</th>\n",
              "      <td>1</td>\n",
              "      <td>2</td>\n",
              "      <td>1</td>\n",
              "      <td>0</td>\n",
              "      <td>1</td>\n",
              "    </tr>\n",
              "    <tr>\n",
              "      <th>3</th>\n",
              "      <td>3</td>\n",
              "      <td>1</td>\n",
              "      <td>1</td>\n",
              "      <td>0</td>\n",
              "      <td>1</td>\n",
              "    </tr>\n",
              "    <tr>\n",
              "      <th>4</th>\n",
              "      <td>6</td>\n",
              "      <td>0</td>\n",
              "      <td>2</td>\n",
              "      <td>0</td>\n",
              "      <td>2</td>\n",
              "    </tr>\n",
              "  </tbody>\n",
              "</table>\n",
              "</div>\n",
              "    <div class=\"colab-df-buttons\">\n",
              "\n",
              "  <div class=\"colab-df-container\">\n",
              "    <button class=\"colab-df-convert\" onclick=\"convertToInteractive('df-9fc08bfa-bc19-4626-a715-4bb886b4d756')\"\n",
              "            title=\"Convert this dataframe to an interactive table.\"\n",
              "            style=\"display:none;\">\n",
              "\n",
              "  <svg xmlns=\"http://www.w3.org/2000/svg\" height=\"24px\" viewBox=\"0 -960 960 960\">\n",
              "    <path d=\"M120-120v-720h720v720H120Zm60-500h600v-160H180v160Zm220 220h160v-160H400v160Zm0 220h160v-160H400v160ZM180-400h160v-160H180v160Zm440 0h160v-160H620v160ZM180-180h160v-160H180v160Zm440 0h160v-160H620v160Z\"/>\n",
              "  </svg>\n",
              "    </button>\n",
              "\n",
              "  <style>\n",
              "    .colab-df-container {\n",
              "      display:flex;\n",
              "      gap: 12px;\n",
              "    }\n",
              "\n",
              "    .colab-df-convert {\n",
              "      background-color: #E8F0FE;\n",
              "      border: none;\n",
              "      border-radius: 50%;\n",
              "      cursor: pointer;\n",
              "      display: none;\n",
              "      fill: #1967D2;\n",
              "      height: 32px;\n",
              "      padding: 0 0 0 0;\n",
              "      width: 32px;\n",
              "    }\n",
              "\n",
              "    .colab-df-convert:hover {\n",
              "      background-color: #E2EBFA;\n",
              "      box-shadow: 0px 1px 2px rgba(60, 64, 67, 0.3), 0px 1px 3px 1px rgba(60, 64, 67, 0.15);\n",
              "      fill: #174EA6;\n",
              "    }\n",
              "\n",
              "    .colab-df-buttons div {\n",
              "      margin-bottom: 4px;\n",
              "    }\n",
              "\n",
              "    [theme=dark] .colab-df-convert {\n",
              "      background-color: #3B4455;\n",
              "      fill: #D2E3FC;\n",
              "    }\n",
              "\n",
              "    [theme=dark] .colab-df-convert:hover {\n",
              "      background-color: #434B5C;\n",
              "      box-shadow: 0px 1px 3px 1px rgba(0, 0, 0, 0.15);\n",
              "      filter: drop-shadow(0px 1px 2px rgba(0, 0, 0, 0.3));\n",
              "      fill: #FFFFFF;\n",
              "    }\n",
              "  </style>\n",
              "\n",
              "    <script>\n",
              "      const buttonEl =\n",
              "        document.querySelector('#df-9fc08bfa-bc19-4626-a715-4bb886b4d756 button.colab-df-convert');\n",
              "      buttonEl.style.display =\n",
              "        google.colab.kernel.accessAllowed ? 'block' : 'none';\n",
              "\n",
              "      async function convertToInteractive(key) {\n",
              "        const element = document.querySelector('#df-9fc08bfa-bc19-4626-a715-4bb886b4d756');\n",
              "        const dataTable =\n",
              "          await google.colab.kernel.invokeFunction('convertToInteractive',\n",
              "                                                    [key], {});\n",
              "        if (!dataTable) return;\n",
              "\n",
              "        const docLinkHtml = 'Like what you see? Visit the ' +\n",
              "          '<a target=\"_blank\" href=https://colab.research.google.com/notebooks/data_table.ipynb>data table notebook</a>'\n",
              "          + ' to learn more about interactive tables.';\n",
              "        element.innerHTML = '';\n",
              "        dataTable['output_type'] = 'display_data';\n",
              "        await google.colab.output.renderOutput(dataTable, element);\n",
              "        const docLink = document.createElement('div');\n",
              "        docLink.innerHTML = docLinkHtml;\n",
              "        element.appendChild(docLink);\n",
              "      }\n",
              "    </script>\n",
              "  </div>\n",
              "\n",
              "\n",
              "<div id=\"df-1c8b5dfa-4786-4aad-a558-6cbe0b2168a9\">\n",
              "  <button class=\"colab-df-quickchart\" onclick=\"quickchart('df-1c8b5dfa-4786-4aad-a558-6cbe0b2168a9')\"\n",
              "            title=\"Suggest charts.\"\n",
              "            style=\"display:none;\">\n",
              "\n",
              "<svg xmlns=\"http://www.w3.org/2000/svg\" height=\"24px\"viewBox=\"0 0 24 24\"\n",
              "     width=\"24px\">\n",
              "    <g>\n",
              "        <path d=\"M19 3H5c-1.1 0-2 .9-2 2v14c0 1.1.9 2 2 2h14c1.1 0 2-.9 2-2V5c0-1.1-.9-2-2-2zM9 17H7v-7h2v7zm4 0h-2V7h2v10zm4 0h-2v-4h2v4z\"/>\n",
              "    </g>\n",
              "</svg>\n",
              "  </button>\n",
              "\n",
              "<style>\n",
              "  .colab-df-quickchart {\n",
              "      --bg-color: #E8F0FE;\n",
              "      --fill-color: #1967D2;\n",
              "      --hover-bg-color: #E2EBFA;\n",
              "      --hover-fill-color: #174EA6;\n",
              "      --disabled-fill-color: #AAA;\n",
              "      --disabled-bg-color: #DDD;\n",
              "  }\n",
              "\n",
              "  [theme=dark] .colab-df-quickchart {\n",
              "      --bg-color: #3B4455;\n",
              "      --fill-color: #D2E3FC;\n",
              "      --hover-bg-color: #434B5C;\n",
              "      --hover-fill-color: #FFFFFF;\n",
              "      --disabled-bg-color: #3B4455;\n",
              "      --disabled-fill-color: #666;\n",
              "  }\n",
              "\n",
              "  .colab-df-quickchart {\n",
              "    background-color: var(--bg-color);\n",
              "    border: none;\n",
              "    border-radius: 50%;\n",
              "    cursor: pointer;\n",
              "    display: none;\n",
              "    fill: var(--fill-color);\n",
              "    height: 32px;\n",
              "    padding: 0;\n",
              "    width: 32px;\n",
              "  }\n",
              "\n",
              "  .colab-df-quickchart:hover {\n",
              "    background-color: var(--hover-bg-color);\n",
              "    box-shadow: 0 1px 2px rgba(60, 64, 67, 0.3), 0 1px 3px 1px rgba(60, 64, 67, 0.15);\n",
              "    fill: var(--button-hover-fill-color);\n",
              "  }\n",
              "\n",
              "  .colab-df-quickchart-complete:disabled,\n",
              "  .colab-df-quickchart-complete:disabled:hover {\n",
              "    background-color: var(--disabled-bg-color);\n",
              "    fill: var(--disabled-fill-color);\n",
              "    box-shadow: none;\n",
              "  }\n",
              "\n",
              "  .colab-df-spinner {\n",
              "    border: 2px solid var(--fill-color);\n",
              "    border-color: transparent;\n",
              "    border-bottom-color: var(--fill-color);\n",
              "    animation:\n",
              "      spin 1s steps(1) infinite;\n",
              "  }\n",
              "\n",
              "  @keyframes spin {\n",
              "    0% {\n",
              "      border-color: transparent;\n",
              "      border-bottom-color: var(--fill-color);\n",
              "      border-left-color: var(--fill-color);\n",
              "    }\n",
              "    20% {\n",
              "      border-color: transparent;\n",
              "      border-left-color: var(--fill-color);\n",
              "      border-top-color: var(--fill-color);\n",
              "    }\n",
              "    30% {\n",
              "      border-color: transparent;\n",
              "      border-left-color: var(--fill-color);\n",
              "      border-top-color: var(--fill-color);\n",
              "      border-right-color: var(--fill-color);\n",
              "    }\n",
              "    40% {\n",
              "      border-color: transparent;\n",
              "      border-right-color: var(--fill-color);\n",
              "      border-top-color: var(--fill-color);\n",
              "    }\n",
              "    60% {\n",
              "      border-color: transparent;\n",
              "      border-right-color: var(--fill-color);\n",
              "    }\n",
              "    80% {\n",
              "      border-color: transparent;\n",
              "      border-right-color: var(--fill-color);\n",
              "      border-bottom-color: var(--fill-color);\n",
              "    }\n",
              "    90% {\n",
              "      border-color: transparent;\n",
              "      border-bottom-color: var(--fill-color);\n",
              "    }\n",
              "  }\n",
              "</style>\n",
              "\n",
              "  <script>\n",
              "    async function quickchart(key) {\n",
              "      const quickchartButtonEl =\n",
              "        document.querySelector('#' + key + ' button');\n",
              "      quickchartButtonEl.disabled = true;  // To prevent multiple clicks.\n",
              "      quickchartButtonEl.classList.add('colab-df-spinner');\n",
              "      try {\n",
              "        const charts = await google.colab.kernel.invokeFunction(\n",
              "            'suggestCharts', [key], {});\n",
              "      } catch (error) {\n",
              "        console.error('Error during call to suggestCharts:', error);\n",
              "      }\n",
              "      quickchartButtonEl.classList.remove('colab-df-spinner');\n",
              "      quickchartButtonEl.classList.add('colab-df-quickchart-complete');\n",
              "    }\n",
              "    (() => {\n",
              "      let quickchartButtonEl =\n",
              "        document.querySelector('#df-1c8b5dfa-4786-4aad-a558-6cbe0b2168a9 button');\n",
              "      quickchartButtonEl.style.display =\n",
              "        google.colab.kernel.accessAllowed ? 'block' : 'none';\n",
              "    })();\n",
              "  </script>\n",
              "</div>\n",
              "    </div>\n",
              "  </div>\n"
            ]
          },
          "metadata": {},
          "execution_count": 94
        }
      ]
    },
    {
      "cell_type": "markdown",
      "source": [
        "## Graphical representation of results\n",
        "Here, I graph the Net Score vs the Number of Retweets"
      ],
      "metadata": {
        "id": "nvSz-QB5Zv8T"
      }
    },
    {
      "cell_type": "code",
      "source": [
        "sns.lineplot(twitter_data,\n",
        "                x='Net Score',\n",
        "                y='Number of Retweets')"
      ],
      "metadata": {
        "colab": {
          "base_uri": "https://localhost:8080/",
          "height": 466
        },
        "id": "y9-bx4CqZ6-y",
        "outputId": "52e514ee-d3ee-442e-a345-45af31976955"
      },
      "execution_count": 97,
      "outputs": [
        {
          "output_type": "execute_result",
          "data": {
            "text/plain": [
              "<Axes: xlabel='Net Score', ylabel='Number of Retweets'>"
            ]
          },
          "metadata": {},
          "execution_count": 97
        },
        {
          "output_type": "display_data",
          "data": {
            "text/plain": [
              "<Figure size 640x480 with 1 Axes>"
            ],
            "image/png": "[encoded data removed]"
          },
          "metadata": {}
        }
      ]
    },
    {
      "cell_type": "markdown",
      "source": [
        "## Conclusion"
      ],
      "metadata": {
        "id": "T9Ab4pxsdL4P"
      }
    },
    {
      "cell_type": "markdown",
      "source": [
        "It seems that the greater the `Net Score` is, the greater the `Number of Retweets`."
      ],
      "metadata": {
        "id": "h4z7IeyJbFev"
      }
    }
  ]
}